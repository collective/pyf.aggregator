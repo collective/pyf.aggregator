{
 "cells": [
  {
   "cell_type": "code",
   "execution_count": 5,
   "metadata": {},
   "outputs": [
    {
     "data": {
      "text/plain": [
       "<Elasticsearch([{'host': 'localhost', 'port': '9200'}])>"
      ]
     },
     "execution_count": 5,
     "metadata": {},
     "output_type": "execute_result"
    }
   ],
   "source": [
    "from elasticsearch import Elasticsearch\n",
    "from elasticsearch_dsl import Search\n",
    "\n",
    "\n",
    "client = Elasticsearch([\n",
    "    {'host': 'localhost', 'port': '9200'}\n",
    "])\n",
    "client"
   ]
  },
  {
   "cell_type": "code",
   "execution_count": 6,
   "metadata": {},
   "outputs": [
    {
     "data": {
      "text/plain": [
       "{'_index': 'packages',\n",
       " '_type': 'package',\n",
       " '_id': 'collective.blogging-1.4.0',\n",
       " '_version': 1,\n",
       " '_seq_no': 144,\n",
       " '_primary_term': 1,\n",
       " 'found': True,\n",
       " '_source': {'author': 'Lukas Zdych',\n",
       "  'author_email': 'lukas.zdych@gmail.com',\n",
       "  'bugtrack_url': None,\n",
       "  'classifiers': ['Development Status :: 5 - Production/Stable',\n",
       "   'Environment :: Web Environment',\n",
       "   'Framework :: Plone',\n",
       "   'Framework :: Plone :: 4.3',\n",
       "   'Framework :: Zope2',\n",
       "   'Framework :: Zope3',\n",
       "   'Intended Audience :: Developers',\n",
       "   'Intended Audience :: End Users/Desktop',\n",
       "   'License :: OSI Approved :: GNU General Public License v2 (GPLv2)',\n",
       "   'Operating System :: OS Independent',\n",
       "   'Programming Language :: Python',\n",
       "   'Programming Language :: Python :: 2.7',\n",
       "   'Topic :: Internet',\n",
       "   'Topic :: Software Development :: Libraries :: Python Modules'],\n",
       "  'description': 'About\\n============\\n\\nYet another blogging tool for Plone. Blogging package provides simple extension for Plone\\nto make blogging easier with as little as possible modifications or extra content.\\nBut still use as much as possible from Plone\\'s default UI to let user\\'s get familiar\\nwith extra blogging features in a while.\\n\\nInstalling\\n============\\n\\nThis package requires Plone 4.x.\\n\\nInstalling without buildout\\n~~~~~~~~~~~~~~~~~~~~~~~~~~~\\n\\nInstall this package in either your system path packages or in the lib/python\\ndirectory of your Zope instance. You can do this using either easy_install or\\nvia the setup.py script.\\n\\nInstalling with buildout\\n~~~~~~~~~~~~~~~~~~~~~~~~\\n\\nIf you are using `buildout`_ to manage your instance installing\\ncollective.blogging is even simpler. You can install\\ncollective.blogging by adding it to the eggs line for your instance::\\n\\n    [instance]\\n    eggs = collective.blogging\\n\\nAfter updating the configuration you need to run the \\'\\'bin/buildout\\'\\', which\\nwill take care of updating your system.\\n\\n.. _buildout: https://pypi.org/project/zc.buildout\\n\\nUsage\\n=====\\n\\nSo, let\\'s say that in most cases when you want to start simple personal blog,\\ndefault Plone installation without any extra add-ons provides almost all you need.\\nFor example you can create Folder / Large Plone Folder for blog posts, Smart Folder\\nas site frontpage with criteria to search contents of the blog folder and then you\\ncan start blogging by creating News Items in the blog folder.\\n\\nYes that\\'s fine but after while you end up with thinking about better blog view\\ntemplate because folder summary view doesn\\'t provide some extra info about listed\\nNews Items like number of comments, permalink etc.\\n\\nAnd that\\'s why the Blogging package was created and hopefully will save your time\\nin case you don\\'t need complex blogging tool but still want a blog.\\n\\nFeatures\\n========\\n\\n- Creating blog(s) from Plone Folders\\n\\n- Posting Plone\\'s Pages, News Items, Events, Files, Images, Links and External Videos (or other embed content)\\n\\n- Collection supported\\n\\n- Simple archive toolbar (filter by category, year, month)\\n\\n- Portlets: Archive, Manage and Share\\n\\n- Next / Prev navigation replacement\\n\\n- Auto-blogging action for content rules\\n\\n- Safe uninstall (except issue #7)\\n\\n- Google maps integration with events via collective.bloggingmaps_\\n\\n- Collage integration via collective.collage.blogging collective.collage.blogging_\\n\\n.. _collective.bloggingmaps: https://pypi.org/project/collective.bloggingmaps\\n.. _collective.collage.blogging: https://github.com/collective/collective.collage.blogging\\n\\nExamples\\n========\\n\\nHere are sites where the blogging tool is already in production use.\\n\\n- plan-international.org_\\n\\n.. _plan-international.org: http://plan-international.org/about-plan/resources/blogs\\n\\n- blog.horovi.com_\\n\\n.. _blog.horovi.com: http://blog.horovi.com\\n\\n- itic.epsem.upc.edu_\\n\\n.. _itic.epsem.upc.edu: http://itic.epsem.upc.edu/blog\\n\\nCopyright and Credits\\n=====================\\n\\ncollective.blogging is licensed under the GPL. See LICENSE.txt for details.\\n\\nAuthor: `Lukas Zdych (lzdych)`__ - development, maintenance, Czech translation\\n\\n.. _lzdych: mailto:lukas.zdych@gmail.com\\n\\n__ lzdych_\\n\\nContributors:\\n\\n- Maurits van Rees (maurits) - fixes, patches\\n\\n- Davi Lima (davi-lima, davilima6) - ideas, testing, Portuguese translation\\n\\n- Enzo Cesanelli (luthy) - ideas, testing, Italian translation\\n\\n- Marcos Romero (marcosfromero) - filtering improvements\\n\\n- Rob Gietema (robgietema) - Dutch translation\\n\\n- Leonardo J. Caballero G. (macagua) - Spanish translation\\n\\n- Yusuke NAKAI (nyusuke at nagosui dot org) - Japanese translation\\n\\n- Sebas Vila-Marta (sebas at dipse dot upc dot edu) - Catalan translation\\n\\n- Hartmut Goebel (h dot goebel at goebel-consult dot de) - German translation\\n\\n- Mathieu Le Marec - Pasquet (kiorky at cryptelium dot net) - fixes, patches, buildout infra\\n\\n- Jens Klein - jens at bluedynamics dot com - keep alive\\n\\nHomepage: collective.blogging_.\\n\\n.. _collective.blogging: https://github.com/collective/collective.blogging\\n\\n\\nChangelog\\n=========\\n\\n1.4.0 (2019-02-13)\\n~~~~~~~~~~~~~~~~~~\\n\\n- Drop support for Plone 4.0-4.2 and Python 2.6.\\n  Wont test on those.\\n  [jensens]\\n\\n- Fix broken portlet if blog_path is non existent.\\n  [jensens]\\n\\n- Fix migration for sites w/o default folderish types available.\\n  [jensens]\\n\\n\\n1.3.3 (2013-08-29)\\n~~~~~~~~~~~~~~~~~~\\n\\n- Added more strings classifiers items for this package\\n  [macagua]\\n\\n- Updated Spanish translation\\n  [macagua]\\n\\n- plone 4.3 compat\\n  [kiorky]\\n\\n- Refresh buildout infra\\n  [kiorky]\\n\\n- Move to github\\n  [kiorky]\\n\\n\\n1.3.2 (2012-07-17)\\n~~~~~~~~~~~~~~~~~~\\n\\n- Added option to set entry layout to AutoBlog rule. ObjectInitialized subscriber may be\\n  invoked before the autoblog rule so the layout might not be set.\\n  [naro]\\n\\n\\n1.3.1 (2012-06-12)\\n~~~~~~~~~~~~~~~~~~\\n\\n - discussion Item based comments support replaced by p.a.discussion commments one - fixes: #26\\n   [lzdych]\\n\\n - updated template variables [lzdych]\\n\\n - updated translation for pt-br [lepri]\\n\\n - added metadata \\'total_comments\\' in setuphandlers [lepri]\\n\\n1.3 (2011-10-05)\\n~~~~~~~~~~~~~~~~\\n\\n - Use cropText instead of custom cropping method. cropText is smarter and unicode aware.\\n   [naro]\\n - added conditional import for plone 4.1 compatibility\\n   [redcor]\\n\\n - added <include package=\"Products.CMFCore\" /> to make it plone 4.1 compatible\\n   [redcor]\\n\\n - Fixed fuzzy (and broken) dutch translations\\n   [maerteijn]\\n\\n - Added missing normalizeString declaration (Plone4)\\n   [naro]\\n\\n1.2 (2010-11-26)\\n~~~~~~~~~~~~~~~~~~~\\n\\n- added Spanish translation [marcosfromero]\\n- changed filter toolbar for a filter portlet. GS upgrade step to automatically create a portlet when filter\\n  toolbar was enabled. [marcosfromero]\\n- filter improvements: now it\\'s a fieldset, with a \"Clear filter\" link. It filters with AJAX. Changed \"POST\"\\n  method for \"get\" - fixes: #21 [marcosfromero]\\n- fixed installation in Plone 4.0 [khink, erico_andrei, yurj]\\n- added german translation by Hartmut Goebel - closes: #17 [lzdych]\\n- added patch by Hartmut Goebel for help page - closes: #18 [lzdych]\\n- sharing portlet now respects services order + added sharing feature to blog view - closes: #16 [lzdych]\\n- minor change in sharing portlet edit form - closes: #14 [lzdych]\\n- minor improvements of manage portlet [lzdych]\\n- Updated Dutch translations [jaroel]\\n\\n1.1 (2010-05-12)\\n~~~~~~~~~~~~~~~~~~~\\n\\n- Avoid ZeroDivisionError when the filter_cache field is 0 (simply do not cache then). [maurits]\\n- image and newsitem fancyboxes replaced by overlays - fixes: #6 [lzdych]\\n- enabled \"Display menu\" for blogs and entries [lzdych]\\n- added styles for sunburst Plone theme [lzdych]\\n- added Catalan translation by Sebas Vila-Marta [lzdych]\\n- removed gallery view use for example: \"collective.prettyphoto\" instead [lzdych]\\n\\n1.0 (2010-05-03)\\n~~~~~~~~~~~~~~~~~~~\\n\\n- minor fixes in the templates to support collective.collage.blogging extension [lzdych]\\n- blog\\'s title and description can be hidden in the blog view by new option in the blog\\'s settings [lzdych]\\n\\n1.0rc3 (2010-04-26)\\n~~~~~~~~~~~~~~~~~~~\\n\\n- Changed batch_size field UI from a selection widget to a more flexible\\n  entry field.  Also helps to avoid a problem with the handling of integer\\n  vocabularies for the selection widget. [newbery]\\n- Fixed error in filtering per month.\\n  Hopefully fixes http://plone.org/products/collective.blogging/issues/3\\n  [maurits]\\n- blog entry author\\'s link can now optionally target to any referencable object instead of default\\n  author\\'s page [lzdych]\\n- added Japanese translation by Yusuke Nakai [lzdych]\\n- cache interval for the filter toolbar dropdowns configurable in the blog (folder) settings [lzdych]\\n\\n1.0rc2 (2010-02-24)\\n~~~~~~~~~~~~~~~~~~~\\n\\n- made entry\\'s document byline block easier to customize in the blog view [lzdych]\\n- updated i18n and czech translation [lzdych]\\n\\n1.0rc1 (2010-02-16)\\n~~~~~~~~~~~~~~~~~~~\\n\\n- added blogger\\'s name field to blog entry\\'s schemata [lzdych]\\n- updated czech translation [lzdych]\\n- cleaned up translation from blogging help page mess, so user\\'s guide is no more translatable and will be replaced by online documentation in final version [lzdych]\\n- added new blog option which enables blogger to set max. length of entry\\'s description displayed in non-full blog view [lzdych]\\n- auto-blogging content rule now can (optionally) enable blogging, comments, exclude from nav [lzdych]\\n- added new richtext field to blogs (hidden if blog content already has \"text\" field) [lzdych]\\n- added patch fixing reply counts if discussion moderation is enabled via quintagroup.plonecomments [lzdych]\\n- updated portuguese translation [davilima6]\\n- Plone 3.2 compatibility [naro]\\n\\n1.0b4 (2010-01-09)\\n~~~~~~~~~~~~~~~~~~\\n\\n- fixed unindexed blogging content by package reinstallation [lzdych]\\n- blog link from manage portlet excluded in the blog context [lzdych]\\n- blogging permission is now acquired by default [lzdych]\\n- unified entry rendering in blog and entry view [lzdych]\\n- moved blog and entry view snippets into separated macros [lzdych]\\n- added pictures folder reference to manage blog portlet [lzdych]\\n- enabled text contents of smart folders in blog view (if nonempty) [lzdych]\\n- fixed i18n markup for read more link [lzdych]\\n- added share entry portlet [lzdych]\\n- blog filter toolbar options now reflects blog contents [lzdych]\\n- blog now can show number of posts in it [lzdych]\\n- added dutch translation [robgietema]\\n- updated italian translation [luthy]\\n- added portuguese translation [davilima6]\\n\\n1.0b3 (2009-12-06)\\n~~~~~~~~~~~~~~~~~~\\n\\n- removed thumbnail layout replacement for blog galleries - fixes: package reinstall removes blog gallery layouts [lzdych]\\n- updated user\\'s guide, i18n and czech translateion [lzdych]\\n- news item image box moved above entry description so it floats next to it [lzdych]\\n- permalink moved to document by line area [lzdych]\\n- added read more link to entry footer in the blog view (not for editors) [lzdych]\\n- new blog option available to enable / disable entry\\'s text body rendering in the blog view [lzdych]\\n\\n1.0b2 (2009-12-06)\\n~~~~~~~~~~~~~~~~~~\\n\\n- blog view and next / prev navigation now uses EffectiveDate rather then Date sort criterion [lzdych]\\n- added uninstall profile (wired up with QI) [lzdych]\\n- next / prev navigation always enabled for blogs based on Large Folders [lzdych]\\n- unified entry documentbyline and keywords info and added entry footer panel to its detail [lzdych]\\n- fixed broken news item based entry\\'s layout by non-closed div element of fancy box [lzdych]\\n- enabled blogging for ATBlog based content - makes image and file posting available in plone 4 [lzdych]\\n- fixed broken browser views in plone 4 by obsolete global variables usage [lzdych]\\n- content rule action registered for all events - fixes: zope won\\'t start with plone4 [lzdych]\\n- updated i18n and czech translation [lzdych]\\n- removed enforce vocabulary check for blog\\'s batch_size field - fixes: can\\'t translate bloggable content [lzdych]\\n\\n1.0b1 (2009-12-03)\\n~~~~~~~~~~~~~~~~~~\\n\\n- updated user\\'s guide [lzdych]\\n- disallow javascript resource merging - fixes: Gallery view doesn\\'t work for anonymous sometimes [lzdych]\\n- updated i18n and czech translation [lzdych]\\n- refactored blog content markup by removing individual content type markup interfaces and added upgrade step, also fixes: missing NewsItem\\'s title image in blog and entry view [lzdych]\\n- schema extenders made browser layer specific using new blogging layer [lzdych]\\n- browser views and static resources now hangs on new blogging specific browser layer [lzdych]\\n- added edit link to the entry snippet footer in the blog view [lzdych]\\n- extended manage blog portlet\\'s settings by optional reference to user defined drafts link [lzdych]\\n- added blog archive portlet (requires publish_year and publilsh_month catalog reindex) [lzdych]\\n- improved browser views to enable maps to be hidden if not used [lzdych]\\n- removed empty entry description element if no description available [lzdych]\\n- added initial italian translation [luthy]\\n\\n1.0a2 (2009-11-22)\\n~~~~~~~~~~~~~~~~~~\\n\\n- updated user\\'s guide [lzdych]\\n- added TTW configuration for blog view (batch size, enable toolbar) [lzdych]\\n- blog related fields moved to new schemata fieldset \"blog\" [lzdych]\\n- added content rules action for to enable content auto-blogging [lzdych]\\n- added support for bloggingmaps extension [lzdych]\\n- named schema extenders to avoid adaptation conflicts [lzdych]\\n- added support for event based blog entries [lzdych]\\n- unified position of entry description in blog and entry views [lzdych]\\n- fixed duplicated appearance of manage portlet and missing default english labels in multilingual sites [lzdych]\\n- remote_url made hidden in the entry and blog view if content has default value http:// [lzdych]\\n- portlet\\'s link are now generated from selected addable types in its settings [lzdych]\\n- the blog view now renders related items of listed entries (if available) [lzdych]\\n- updated czech translation (most of the user\\'s guide still not translated) [lzdych]\\n\\n\\n1.0a1 (2009-11-17)\\n~~~~~~~~~~~~~~~~~~\\n\\n- Initial release',\n",
       "  'description_content_type': '',\n",
       "  'docs_url': None,\n",
       "  'download_url': '',\n",
       "  'home_page': 'https://github.com/collective/collective.blogging',\n",
       "  'keywords': 'web plone blogging system extension cms',\n",
       "  'license': 'GPL',\n",
       "  'maintainer': '',\n",
       "  'maintainer_email': '',\n",
       "  'name': 'collective.blogging',\n",
       "  'package_url': 'https://pypi.org/project/collective.blogging/',\n",
       "  'platform': '',\n",
       "  'project_url': 'https://pypi.org/project/collective.blogging/',\n",
       "  'project_urls': {'Homepage': 'https://github.com/collective/collective.blogging'},\n",
       "  'release_url': 'https://pypi.org/project/collective.blogging/1.4.0/',\n",
       "  'requires_dist': None,\n",
       "  'requires_python': '',\n",
       "  'summary': 'A blogging extension for Plone 4.x.',\n",
       "  'version': '1.4.0',\n",
       "  'urls': [{'comment_text': '',\n",
       "    'digests': {'md5': '4ff036ba06ddba8096f6a237260adf14',\n",
       "     'sha256': '150184198825bf3321be23a28e08a6c0cc5f74ec014cdd74c65d70349e89f9d2'},\n",
       "    'downloads': -1,\n",
       "    'filename': 'collective.blogging-1.4.0.tar.gz',\n",
       "    'has_sig': False,\n",
       "    'md5_digest': '4ff036ba06ddba8096f6a237260adf14',\n",
       "    'packagetype': 'sdist',\n",
       "    'python_version': 'source',\n",
       "    'requires_python': None,\n",
       "    'size': 1526549,\n",
       "    'upload_time': '2019-02-13T09:27:10',\n",
       "    'url': 'https://files.pythonhosted.org/packages/ef/38/35f882a916bfa437970a281f48dd2a66af8d0e3a9c9a14d8123279c06f3b/collective.blogging-1.4.0.tar.gz'}]}}"
      ]
     },
     "execution_count": 6,
     "metadata": {},
     "output_type": "execute_result"
    }
   ],
   "source": [
    "client.get(index=\"packages\", doc_type=\"package\", id=\"collective.blogging-1.4.0\")"
   ]
  },
  {
   "cell_type": "code",
   "execution_count": 8,
   "metadata": {},
   "outputs": [
    {
     "name": "stdout",
     "output_type": "stream",
     "text": [
      "{'total': 114, 'max_score': 0.0, 'hits': [{'_index': 'packag...}\n"
     ]
    }
   ],
   "source": [
    "search_obj = Search(using=client, index='packages', doc_type=\"package\")\n",
    "\n",
    "search_obj = search_obj.filter(\n",
    "    'term',\n",
    "    **{\n",
    "       \"classifiers\": 'Framework :: Plone :: 4.3'\n",
    "    }\n",
    ")\n",
    "\n",
    "result = search_obj.execute()\n",
    "print(result['hits'])"
   ]
  },
  {
   "cell_type": "code",
   "execution_count": 4,
   "metadata": {},
   "outputs": [
    {
     "name": "stdout",
     "output_type": "stream",
     "text": [
      "dict_keys(['author', 'author_email', 'bugtrack_url', 'classifiers', 'description', 'description_content_type', 'docs_url', 'download_url', 'home_page', 'keywords', 'license', 'maintainer', 'maintainer_email', 'name', 'package_url', 'platform', 'project_url', 'project_urls', 'release_url', 'requires_dist', 'requires_python', 'summary', 'version', 'urls'])\n"
     ]
    }
   ],
   "source": [
    "import json\n",
    "with open('data/collective.address-1.0.json') as fd:\n",
    "    print(json.load(fd).keys())"
   ]
  },
  {
   "cell_type": "code",
   "execution_count": null,
   "metadata": {},
   "outputs": [],
   "source": []
  }
 ],
 "metadata": {
  "kernelspec": {
   "display_name": "Python 3",
   "language": "python",
   "name": "python3"
  },
  "language_info": {
   "codemirror_mode": {
    "name": "ipython",
    "version": 3
   },
   "file_extension": ".py",
   "mimetype": "text/x-python",
   "name": "python",
   "nbconvert_exporter": "python",
   "pygments_lexer": "ipython3",
   "version": "3.7.2"
  }
 },
 "nbformat": 4,
 "nbformat_minor": 2
}
